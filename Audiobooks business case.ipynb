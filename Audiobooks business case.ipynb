{
 "cells": [
  {
   "cell_type": "code",
   "execution_count": 1,
   "metadata": {},
   "outputs": [],
   "source": [
    "import numpy as np\n",
    "import tensorflow as tf"
   ]
  },
  {
   "cell_type": "code",
   "execution_count": 2,
   "metadata": {},
   "outputs": [],
   "source": [
    "npz = np.load('Audiobooks_data_train.npz')\n",
    "\n",
    "train_inputs = npz['inputs'].astype(np.float)\n",
    "train_targets = npz['targets'].astype(np.int)\n",
    "\n",
    "npz = np.load('Audiobooks_data_validation.npz')\n",
    "validation_inputs, validation_targets = npz['inputs'].astype(np.float), npz['targets'].astype(np.int)\n",
    "\n",
    "npz = np.load('Audiobooks_data_test.npz')\n",
    "test_inputs, test_targets = npz['inputs'].astype(np.float), npz['targets'].astype(np.int)"
   ]
  },
  {
   "cell_type": "markdown",
   "metadata": {},
   "source": [
    "# Model\n",
    "Outline, optimizers, loss, early stopping and training"
   ]
  },
  {
   "cell_type": "code",
   "execution_count": 5,
   "metadata": {},
   "outputs": [
    {
     "name": "stdout",
     "output_type": "stream",
     "text": [
      "Train on 3579 samples, validate on 447 samples\n",
      "Epoch 1/100\n",
      "3579/3579 - 0s - loss: 0.5390 - accuracy: 0.8064 - val_loss: 0.4321 - val_accuracy: 0.8613\n",
      "Epoch 2/100\n",
      "3579/3579 - 0s - loss: 0.3662 - accuracy: 0.8768 - val_loss: 0.3610 - val_accuracy: 0.8658\n",
      "Epoch 3/100\n",
      "3579/3579 - 0s - loss: 0.3159 - accuracy: 0.8835 - val_loss: 0.3400 - val_accuracy: 0.8635\n",
      "Epoch 4/100\n",
      "3579/3579 - 0s - loss: 0.2950 - accuracy: 0.8896 - val_loss: 0.3324 - val_accuracy: 0.8702\n",
      "Epoch 5/100\n",
      "3579/3579 - 0s - loss: 0.2824 - accuracy: 0.8924 - val_loss: 0.3236 - val_accuracy: 0.8702\n",
      "Epoch 6/100\n",
      "3579/3579 - 0s - loss: 0.2751 - accuracy: 0.8977 - val_loss: 0.3159 - val_accuracy: 0.8702\n",
      "Epoch 7/100\n",
      "3579/3579 - 0s - loss: 0.2681 - accuracy: 0.8983 - val_loss: 0.3179 - val_accuracy: 0.8747\n",
      "Epoch 8/100\n",
      "3579/3579 - 0s - loss: 0.2623 - accuracy: 0.8994 - val_loss: 0.3072 - val_accuracy: 0.8725\n",
      "Epoch 9/100\n",
      "3579/3579 - 0s - loss: 0.2577 - accuracy: 0.8997 - val_loss: 0.2943 - val_accuracy: 0.8837\n",
      "Epoch 10/100\n",
      "3579/3579 - 0s - loss: 0.2535 - accuracy: 0.9019 - val_loss: 0.2941 - val_accuracy: 0.8837\n",
      "Epoch 11/100\n",
      "3579/3579 - 0s - loss: 0.2524 - accuracy: 0.9044 - val_loss: 0.2901 - val_accuracy: 0.8859\n",
      "Epoch 12/100\n",
      "3579/3579 - 0s - loss: 0.2478 - accuracy: 0.9036 - val_loss: 0.2860 - val_accuracy: 0.8859\n",
      "Epoch 13/100\n",
      "3579/3579 - 0s - loss: 0.2448 - accuracy: 0.9050 - val_loss: 0.2916 - val_accuracy: 0.8792\n",
      "Epoch 14/100\n",
      "3579/3579 - 0s - loss: 0.2455 - accuracy: 0.9056 - val_loss: 0.2836 - val_accuracy: 0.8904\n",
      "Epoch 15/100\n",
      "3579/3579 - 0s - loss: 0.2435 - accuracy: 0.9064 - val_loss: 0.2850 - val_accuracy: 0.8859\n",
      "Epoch 16/100\n",
      "3579/3579 - 0s - loss: 0.2403 - accuracy: 0.9070 - val_loss: 0.2834 - val_accuracy: 0.8993\n",
      "Epoch 17/100\n",
      "3579/3579 - 0s - loss: 0.2394 - accuracy: 0.9078 - val_loss: 0.2848 - val_accuracy: 0.8949\n",
      "Epoch 18/100\n",
      "3579/3579 - 0s - loss: 0.2375 - accuracy: 0.9092 - val_loss: 0.2871 - val_accuracy: 0.8926\n"
     ]
    },
    {
     "data": {
      "text/plain": [
       "<tensorflow.python.keras.callbacks.History at 0x1c06e6b6808>"
      ]
     },
     "execution_count": 5,
     "metadata": {},
     "output_type": "execute_result"
    }
   ],
   "source": [
    "input_size = 10\n",
    "output_size = 2\n",
    "hidden_layer_size = 50\n",
    "\n",
    "model = tf.keras.Sequential([\n",
    "                          \n",
    "        tf.keras.layers.Dense(hidden_layer_size, activation = 'relu'),\n",
    "        tf.keras.layers.Dense(hidden_layer_size, activation = 'relu'),\n",
    "        tf.keras.layers.Dense(output_size, activation = 'softmax')\n",
    "    \n",
    "                             ])\n",
    "model.compile(optimizer = 'adam', loss ='sparse_categorical_crossentropy', metrics = ['accuracy'])\n",
    "\n",
    "batch_size = 100\n",
    "max_epochs = 100\n",
    "\n",
    "early_stopping = tf.keras.callbacks.EarlyStopping(patience = 2)\n",
    "\n",
    "model.fit(train_inputs, train_targets, batch_size = batch_size, epochs = max_epochs, callbacks = [early_stopping], validation_data = (validation_inputs, validation_targets), verbose = 2)"
   ]
  },
  {
   "cell_type": "markdown",
   "metadata": {},
   "source": [
    "# Test"
   ]
  },
  {
   "cell_type": "code",
   "execution_count": 6,
   "metadata": {},
   "outputs": [
    {
     "name": "stdout",
     "output_type": "stream",
     "text": [
      "448/448 [==============================] - 0s 230us/sample - loss: 0.2068 - accuracy: 0.9353\n"
     ]
    }
   ],
   "source": [
    "test_loss, test_accuracy = model.evaluate(test_inputs, test_targets)"
   ]
  },
  {
   "cell_type": "code",
   "execution_count": 8,
   "metadata": {},
   "outputs": [
    {
     "name": "stdout",
     "output_type": "stream",
     "text": [
      "\n",
      "Test loss: 0.21. Test accuracy 93.53%\n"
     ]
    }
   ],
   "source": [
    "print('\\nTest loss: {0:.2f}. Test accuracy {1:.2f}%'.format(test_loss, test_accuracy * 100.))"
   ]
  },
  {
   "cell_type": "code",
   "execution_count": null,
   "metadata": {},
   "outputs": [],
   "source": []
  }
 ],
 "metadata": {
  "kernelspec": {
   "display_name": "Python [conda env:py3-TF2.0]",
   "language": "python",
   "name": "conda-env-py3-TF2.0-py"
  },
  "language_info": {
   "codemirror_mode": {
    "name": "ipython",
    "version": 3
   },
   "file_extension": ".py",
   "mimetype": "text/x-python",
   "name": "python",
   "nbconvert_exporter": "python",
   "pygments_lexer": "ipython3",
   "version": "3.7.6"
  }
 },
 "nbformat": 4,
 "nbformat_minor": 2
}
